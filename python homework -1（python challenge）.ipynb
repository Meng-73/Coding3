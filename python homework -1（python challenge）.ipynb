{
 "cells": [
  {
   "cell_type": "markdown",
   "id": "c19ff524",
   "metadata": {},
   "source": [
    "# Python Challenge"
   ]
  },
  {
   "cell_type": "markdown",
   "id": "379644bb",
   "metadata": {},
   "source": [
    "## No.1\n",
    "\n",
    "### 1,2,3,4,5,6,7,8,9,56,43,45,2,56354,2431,77,874,212,456,3322,85,865,34,7,6,53325,467,976,754,532,32,568,0,9654,5422,2 ; even=?\n",
    "\n"
   ]
  },
  {
   "cell_type": "code",
   "execution_count": 10,
   "id": "5418df75",
   "metadata": {},
   "outputs": [
    {
     "name": "stdout",
     "output_type": "stream",
     "text": [
      "Number of even numbers : 22\n",
      "Number of odd numbers : 14\n"
     ]
    }
   ],
   "source": [
    "\n",
    "#get the number of even and odd number\n",
    "\n",
    "\n",
    "\n",
    "numbers = (1,2,3,4,5,6,7,8,9,56,43,45,2,56354,2431,77,874,212,456,3322,85,865,34,7,6,53325,467,976,754,532,32,568,0,9654,5422,2) \n",
    "count_odd = 0\n",
    "count_even = 0\n",
    "for x in numbers:\n",
    "        if not x % 2:\n",
    "    \t     count_even+=1\n",
    "        else:\n",
    "    \t     count_odd+=1\n",
    "print(\"Number of even numbers :\",count_even)\n",
    "print(\"Number of odd numbers :\",count_odd)"
   ]
  },
  {
   "cell_type": "markdown",
   "id": "64e363a2",
   "metadata": {},
   "source": [
    "## No.2\n",
    "### 3.2=Aquarius ; 11.7=scorpio ; 12.31=?"
   ]
  },
  {
   "cell_type": "code",
   "execution_count": 13,
   "id": "62b56409",
   "metadata": {},
   "outputs": [
    {
     "name": "stdout",
     "output_type": "stream",
     "text": [
      "Input date of birth: 31\n",
      "Input month of birth : 12\n",
      "Your Astrological sign is : capricorn\n"
     ]
    }
   ],
   "source": [
    "\n",
    "\n",
    "##get the Astrological sign\n",
    "\n",
    "day = int(input(\"Input date of birth: \"))\n",
    "month = input(\"Input month of birth : \")\n",
    "if month == '12':\n",
    "    astro_sign = 'Sagittarius' if (day < 22) else 'capricorn'\n",
    "elif month == '1':\n",
    "    astro_sign = 'Capricorn' if (day < 20) else 'aquarius'\n",
    "elif month == '2':\n",
    "    astro_sign = 'Aquarius' if (day < 19) else 'pisces'\n",
    "elif month == '3':\n",
    "    astro_sign = 'Pisces' if (day < 21) else 'aries'\n",
    "elif month == '4':\n",
    "    astro_sign = 'Aries' if (day < 20) else 'taurus'\n",
    "elif month == '5':\n",
    "    astro_sign = 'Taurus' if (day < 21) else 'gemini'\n",
    "elif month == '6':\n",
    "    astro_sign = 'Gemini' if (day < 21) else 'cancer'\n",
    "elif month == '7':\n",
    "    astro_sign = 'Cancer' if (day < 23) else 'leo'\n",
    "elif month == '8':\n",
    "    astro_sign = 'Leo' if (day < 23) else 'virgo'\n",
    "elif month == '9':\n",
    "    astro_sign = 'Virgo' if (day < 23) else 'libra'\n",
    "elif month == '10':\n",
    "    astro_sign = 'Libra' if (day < 23) else 'scorpio'\n",
    "elif month == '11':\n",
    "    astro_sign = 'scorpio' if (day < 22) else 'sagittarius'\n",
    "print(\"Your Astrological sign is :\",astro_sign)"
   ]
  },
  {
   "cell_type": "markdown",
   "id": "5579ad9c",
   "metadata": {},
   "source": [
    "## No.3\n",
    "### 2000=dragon ; 2001=snake ; 2002=horse ; 2003=sheep ; 2023=?"
   ]
  },
  {
   "cell_type": "code",
   "execution_count": 14,
   "id": "eba114c8",
   "metadata": {},
   "outputs": [
    {
     "name": "stdout",
     "output_type": "stream",
     "text": [
      "Input your birth year: 2023\n",
      "Your Zodiac sign : Hare\n"
     ]
    }
   ],
   "source": [
    "\n",
    "\n",
    "##get Chinese Zodiac sign of the year\n",
    "\n",
    "year = int(input(\"Input your birth year: \"))\n",
    "if (year - 2000) % 12 == 0:\n",
    "    sign = 'Dragon'\n",
    "elif (year - 2000) % 12 == 1:\n",
    "    sign = 'Snake'\n",
    "elif (year - 2000) % 12 == 2:\n",
    "    sign = 'Horse'\n",
    "elif (year - 2000) % 12 == 3:\n",
    "    sign = 'sheep'\n",
    "elif (year - 2000) % 12 == 4:\n",
    "    sign = 'Monkey'\n",
    "elif (year - 2000) % 12 == 5:\n",
    "    sign = 'Rooster'\n",
    "elif (year - 2000) % 12 == 6:\n",
    "    sign = 'Dog'\n",
    "elif (year - 2000) % 12 == 7:\n",
    "    sign = 'Pig'\n",
    "elif (year - 2000) % 12 == 8:\n",
    "    sign = 'Rat'\n",
    "elif (year - 2000) % 12 == 9:\n",
    "    sign = 'Ox'\n",
    "elif (year - 2000) % 12 == 10:\n",
    "    sign = 'Tiger'\n",
    "else:\n",
    "    sign = 'Hare'\n",
    "\n",
    "print(\"Your Zodiac sign :\",sign)"
   ]
  },
  {
   "cell_type": "markdown",
   "id": "0b5a40c1",
   "metadata": {},
   "source": [
    "## No.4\n",
    "### olleh=hello ; yadirf=friday ; ssalc 2gnidoc si siht ih=?"
   ]
  },
  {
   "cell_type": "code",
   "execution_count": 15,
   "id": "debee325",
   "metadata": {
    "scrolled": true
   },
   "outputs": [
    {
     "name": "stdout",
     "output_type": "stream",
     "text": [
      "Input a word to reverse: ssalc 2gnidoc si siht ih\n",
      "hi this is coding2 class\n",
      "\n"
     ]
    }
   ],
   "source": [
    "\n",
    "\n",
    "#reverse the words\n",
    "\n",
    "\n",
    "word = input(\"Input a word to reverse: \")\n",
    "\n",
    "for char in range(len(word) - 1, -1, -1):\n",
    "  print(word[char], end=\"\")\n",
    "print(\"\\n\")"
   ]
  },
  {
   "cell_type": "markdown",
   "id": "26dfe7b3",
   "metadata": {},
   "source": [
    "## No.5\n",
    "### 45=113 ; 20=68 ; 11=52 ; 37F=?"
   ]
  },
  {
   "cell_type": "code",
   "execution_count": 16,
   "id": "60ebc77c",
   "metadata": {},
   "outputs": [
    {
     "name": "stdout",
     "output_type": "stream",
     "text": [
      "Input the  temperature you like to convert? (e.g., 45F,45C) : 37F\n",
      "The temperature in Celsius is 3 degrees.\n"
     ]
    }
   ],
   "source": [
    "\n",
    "\n",
    "#let 37 degrees write fahrenheit\n",
    "\n",
    "temp = input(\"Input the  temperature you like to convert? (e.g., 45F,45C) : \")\n",
    "degree = int(temp[:-1])\n",
    "i_convention = temp[-1]\n",
    "\n",
    "if i_convention.upper() == \"C\":\n",
    "  result = int(round((9 * degree) / 5 + 32))\n",
    "  o_convention = \"Fahrenheit\"\n",
    "elif i_convention.upper() == \"F\":\n",
    "  result = int(round((degree - 32) * 5 / 9))\n",
    "  o_convention = \"Celsius\"\n",
    "else:\n",
    "  print(\"Input proper convention.\")\n",
    "  quit()\n",
    "print(\"The temperature in\", o_convention, \"is\", result, \"degrees.\")\n"
   ]
  },
  {
   "cell_type": "markdown",
   "id": "05439baf",
   "metadata": {},
   "source": [
    "## No.6\n",
    "### 2022.10.19=292 ; 2021.1.8=8 ; 2024.7.8=190 ; 2001.8.24=?"
   ]
  },
  {
   "cell_type": "code",
   "execution_count": 17,
   "id": "cbc003d7",
   "metadata": {},
   "outputs": [
    {
     "name": "stdout",
     "output_type": "stream",
     "text": [
      "which year2001\n",
      "which month8\n",
      "which day24\n",
      "236\n"
     ]
    }
   ],
   "source": [
    "\n",
    "\n",
    "#The input date calculation is the day of the year\n",
    "\n",
    "year = int(input('which year'))\n",
    "month = int(input('which month'))\n",
    "day = int(input('which day'))\n",
    "\n",
    "months = [0,31,59,90,120,151,181,212,243,273,304,334] \n",
    "\n",
    "if 0 < month <= 12:\n",
    "    \n",
    "    sum = months [month-1]\n",
    "    \n",
    "else:\n",
    "    \n",
    "    print('invalid month!')\n",
    "    \n",
    "sum += day\n",
    "\n",
    "leap = 0  \n",
    "\n",
    "if (year % 400 == 0 ) or ((year %4 == 0)and (year % 100 != 0)):\n",
    "    \n",
    "    leap = 1 \n",
    "    \n",
    "if (leap ==1) and (month > 2 ):\n",
    "    \n",
    "    sum += 1\n",
    "    \n",
    "print(sum)\n",
    "\n",
    "\n",
    "\n",
    "\n",
    "\n",
    "    "
   ]
  },
  {
   "cell_type": "markdown",
   "id": "01365d27",
   "metadata": {},
   "source": [
    "## No.7\n",
    "### 2022=no ; 2021=no ; 2000=yes ; 2008=yes ; 1980=?"
   ]
  },
  {
   "cell_type": "code",
   "execution_count": 18,
   "id": "de911443",
   "metadata": {},
   "outputs": [
    {
     "name": "stdout",
     "output_type": "stream",
     "text": [
      "which year1980\n",
      "yes\n"
     ]
    }
   ],
   "source": [
    "\n",
    "\n",
    "#Enter the year to determine whether it is a leap year\n",
    "\n",
    "year = int(input('which year'))\n",
    "\n",
    "if (year % 4==0 and year % 100 != 0) or year % 400 ==0:\n",
    "    \n",
    "    print ('yes')\n",
    "    \n",
    "else:\n",
    "    print('no')"
   ]
  },
  {
   "cell_type": "markdown",
   "id": "f177a05a",
   "metadata": {},
   "source": [
    "## No.8\n",
    "### This is a very popular brain teaser for Chinese children. There are some chickens and rabbits in a cage. There are 35 heads and 94 feet in total. How many chickens and rabbits are there?\n",
    "\n"
   ]
  },
  {
   "cell_type": "code",
   "execution_count": 19,
   "id": "e96a87a1",
   "metadata": {},
   "outputs": [
    {
     "name": "stdout",
     "output_type": "stream",
     "text": [
      "23\n",
      "12\n"
     ]
    }
   ],
   "source": [
    "\n",
    "\n",
    "for i1 in range (0,36):\n",
    "    for i2 in range (0,36):\n",
    "        if i1+i2 ==35 and i1*2 +i2*4 ==94:\n",
    "            print (i1)\n",
    "            print (i2)"
   ]
  },
  {
   "cell_type": "code",
   "execution_count": null,
   "id": "1c4ce805",
   "metadata": {},
   "outputs": [],
   "source": []
  },
  {
   "cell_type": "code",
   "execution_count": null,
   "id": "2bf1f62d",
   "metadata": {},
   "outputs": [],
   "source": []
  },
  {
   "cell_type": "code",
   "execution_count": null,
   "id": "9567964d",
   "metadata": {},
   "outputs": [],
   "source": []
  }
 ],
 "metadata": {
  "kernelspec": {
   "display_name": "Python 3 (ipykernel)",
   "language": "python",
   "name": "python3"
  },
  "language_info": {
   "codemirror_mode": {
    "name": "ipython",
    "version": 3
   },
   "file_extension": ".py",
   "mimetype": "text/x-python",
   "name": "python",
   "nbconvert_exporter": "python",
   "pygments_lexer": "ipython3",
   "version": "3.9.16"
  }
 },
 "nbformat": 4,
 "nbformat_minor": 5
}
